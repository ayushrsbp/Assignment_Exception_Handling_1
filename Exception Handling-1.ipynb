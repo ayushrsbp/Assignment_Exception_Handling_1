{
 "cells": [
  {
   "cell_type": "code",
   "execution_count": 2,
   "id": "391849cf-b108-4f13-86f2-873da0e4da8a",
   "metadata": {},
   "outputs": [],
   "source": [
    "# Q1.\n",
    "# In Python, an exception is an error that occurs during the execution of a program. When an exceptional situation arises, Python raises an exception to interrupt the normal flow of the program and provide information about the error.\n",
    "\n",
    "# Syntax errors occur during the compilation of code before its execution.\n",
    "# Syntax errors prevent the program from running at all.\n",
    "\n",
    "# Exceptions occur during the execution of code.\n",
    "# When an exception occurs, the program flow is interrupted, and Python searches for an appropriate exception handler (try-except block) to handle the exception."
   ]
  },
  {
   "cell_type": "code",
   "execution_count": null,
   "id": "0b57c448-d6a9-4499-879b-a09e67ac7db2",
   "metadata": {},
   "outputs": [],
   "source": [
    "# Q2.\n",
    "# When an exception is not handled in Python, it leads to an unhandled exception, which causes the program to terminate suddenly and displays an error message.\n",
    "\n",
    "def divide_numbers(a, b):\n",
    "    result = a / b  # Raises ZeroDivisionError if b is 0\n",
    "    return result\n",
    "\n",
    "num1 = 10\n",
    "num2 = 0\n",
    "result = divide_numbers(num1, num2)\n",
    "print(f\"The result is: {result}\")\n",
    "\n",
    "# The divide_numbers() function encounters the division by zero and raises a ZeroDivisionError. Since there is no exception handling mechanism to catch this specific exception, the exception propagates up the call stack until it reaches the top level of the program. As a result, the program terminates suddenly and displays an error message."
   ]
  },
  {
   "cell_type": "code",
   "execution_count": 3,
   "id": "90bce3dc-38ba-4eb6-9916-ac2de44f266a",
   "metadata": {},
   "outputs": [
    {
     "name": "stdout",
     "output_type": "stream",
     "text": [
      "Error: Cannot divide by zero! division by zero\n"
     ]
    }
   ],
   "source": [
    "# Q3.\n",
    "# In Python, the try-except statements are used to catch and handle exceptions.\n",
    "\n",
    "def divide_numbers(a, b):\n",
    "    try:\n",
    "        result = a / b  # Raises ZeroDivisionError if b is 0\n",
    "        print(f\"The result is: {result}\")\n",
    "    except ZeroDivisionError as e:\n",
    "        print(f\"Error: Cannot divide by zero! {e}\")\n",
    "\n",
    "divide_numbers(10, 0)\n",
    "\n",
    "# When the divide_numbers() function is called with a = 10 and b = 0, a ZeroDivisionError is raised because we are trying to divide by zero. However, instead of abruptly terminating the program, the exception is caught by the except block.\n",
    "\n",
    "# The except ZeroDivisionError statement matches the raised ZeroDivisionError, and the code inside the except block is executed. In this case, the program prints the error message.\n",
    "\n",
    "# As a result, the program continues executing after the exception is handled, and the execution flow is not interrupted."
   ]
  },
  {
   "cell_type": "code",
   "execution_count": 6,
   "id": "b284b338-5b9a-4e40-b1db-a48dcccc75b2",
   "metadata": {},
   "outputs": [
    {
     "name": "stdout",
     "output_type": "stream",
     "text": [
      "The result is: 5.0\n",
      "The result is: 5.0\n",
      "Division operation completed.\n",
      "Cannot calculate square root of a negative number.\n"
     ]
    }
   ],
   "source": [
    "#Q4.\n",
    "#(a):\n",
    "# when we use try-else statements and no exception occurs in try block, code of else block executes.\n",
    "def divide_numbers(a, b):\n",
    "    try:\n",
    "        result = a / b  \n",
    "    except ZeroDivisionError:\n",
    "        print(\"Error: Cannot divide by zero!\")\n",
    "    else:\n",
    "        print(f\"The result is: {result}\")\n",
    "\n",
    "divide_numbers(10, 2)\n",
    "\n",
    "#(b):\n",
    "    # finally is used with try-except statement, finally block executes whether exception occurs or not in try block.\n",
    "\n",
    "def divide_numbers(a, b):\n",
    "    try:\n",
    "        result = a / b  \n",
    "        print(f\"The result is: {result}\")\n",
    "    except ZeroDivisionError:\n",
    "        print(\"Error: Cannot divide by zero!\")\n",
    "    finally:\n",
    "        print(\"Division operation completed.\")\n",
    "\n",
    "divide_numbers(10, 2)\n",
    "\n",
    "#(c):\n",
    "# raise allows us to create and raise our own exceptions or raise built-in exceptions to indicate specific error conditions.\n",
    "\n",
    "\n",
    "def calculate_square_root(num):\n",
    "    if num < 0:\n",
    "        raise ValueError(\"Cannot calculate square root of a negative number.\")\n",
    "    else:\n",
    "        return num ** 0.5\n",
    "\n",
    "try:\n",
    "    result = calculate_square_root(-9)\n",
    "    print(f\"The square root is: {result}\")\n",
    "except ValueError as e:\n",
    "    print(e)\n"
   ]
  },
  {
   "cell_type": "code",
   "execution_count": 9,
   "id": "94c7368b-5573-439c-98c2-89931f7abaa8",
   "metadata": {},
   "outputs": [
    {
     "name": "stdout",
     "output_type": "stream",
     "text": [
      "It is not possible to calculate square root of a negative number.\n"
     ]
    }
   ],
   "source": [
    "# Q5.\n",
    "# Custom exceptions are user-defined exception classes that allow us to create and raise our own exceptions based on specific error conditions in our program.\n",
    "# Custom exceptions allow us to represent and handle application-specific errors or exceptional situations that are specific to our program's requirements.\n",
    "\n",
    "class validate_num(Exception):\n",
    "    def __init__(self,msg):\n",
    "        self.msg = msg\n",
    "        \n",
    "def calculate_sqr_root(num):\n",
    "    if num < 0:\n",
    "        raise validate_num(\"It is not possible to calculate square root of a negative number.\")\n",
    "    else:\n",
    "        return num**0.5\n",
    "    \n",
    "try:\n",
    "    calculate_sqr_root(-3)\n",
    "except validate_num as e:\n",
    "    print(e)\n",
    "    \n",
    "    \n",
    "# for the above example, in-built exception is not available, so we can create custom exceptions."
   ]
  },
  {
   "cell_type": "code",
   "execution_count": 10,
   "id": "f57d228d-6c9a-4071-b986-76799c61201c",
   "metadata": {},
   "outputs": [
    {
     "name": "stdout",
     "output_type": "stream",
     "text": [
      "It is not possible to calculate square root of a negative number.\n"
     ]
    }
   ],
   "source": [
    "#Q6.\n",
    "class validate_num(Exception):\n",
    "    def __init__(self,msg):\n",
    "        self.msg = msg\n",
    "        \n",
    "def calculate_sqr_root(num):\n",
    "    if num < 0:\n",
    "        raise validate_num(\"It is not possible to calculate square root of a negative number.\")\n",
    "    else:\n",
    "        return num**0.5\n",
    "    \n",
    "try:\n",
    "    calculate_sqr_root(-3)\n",
    "except validate_num as e:\n",
    "    print(e)"
   ]
  },
  {
   "cell_type": "code",
   "execution_count": null,
   "id": "b166882d-0241-4452-8596-064667fac9d7",
   "metadata": {},
   "outputs": [],
   "source": []
  }
 ],
 "metadata": {
  "kernelspec": {
   "display_name": "Python 3 (ipykernel)",
   "language": "python",
   "name": "python3"
  },
  "language_info": {
   "codemirror_mode": {
    "name": "ipython",
    "version": 3
   },
   "file_extension": ".py",
   "mimetype": "text/x-python",
   "name": "python",
   "nbconvert_exporter": "python",
   "pygments_lexer": "ipython3",
   "version": "3.10.8"
  }
 },
 "nbformat": 4,
 "nbformat_minor": 5
}
